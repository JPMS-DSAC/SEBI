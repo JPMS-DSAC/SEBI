{
  "cells": [
    {
      "cell_type": "code",
      "execution_count": 46,
      "metadata": {},
      "outputs": [],
      "source": [
        "import pandas as pd\n",
        "import os\n",
        "from tqdm import tqdm\n",
        "import numpy as np\n",
        "from datetime import datetime\n",
        "import tensorflow as tf\n",
        "\n",
        "from sklearn.feature_extraction.text import CountVectorizer\n",
        "from sklearn.metrics import confusion_matrix, accuracy_score\n",
        "from sklearn.model_selection import train_test_split\n",
        "\n",
        "from tensorflow.keras.preprocessing.text import Tokenizer\n",
        "from tensorflow.keras.preprocessing.sequence import pad_sequences\n",
        "from tensorflow.keras.initializers import Constant\n",
        "from tensorflow.keras.models import Model\n",
        "from tensorflow.keras.layers import *\n",
        "from tensorflow.keras import regularizers\n",
        "from tensorflow.keras.callbacks import EarlyStopping, ModelCheckpoint \n",
        "import tensorboard\n",
        "# from tensorflow.keras import to_categorical\n",
        "import re\n",
        "\n",
        "import matplotlib.pyplot as plt\n",
        "%matplotlib inline\n",
        "\n",
        "from sklearn.metrics import confusion_matrix, classification_report, f1_score\n",
        "\n",
        "from nltk.stem import WordNetLemmatizer\n",
        "from nltk.tokenize import RegexpTokenizer\n",
        "from nltk.corpus import stopwords\n",
        "\n",
        "from gensim.models import Word2Vec"
      ]
    },
    {
      "cell_type": "code",
      "execution_count": 3,
      "metadata": {},
      "outputs": [],
      "source": [
        "#creating extra data from current files  \n",
        "from datetime import datetime\n",
        "from tqdm import tqdm\n",
        "\n",
        "import pandas as pd\n",
        "import os\n",
        "from tqdm import tqdm\n",
        "import numpy as np\n",
        "from tensorflow import keras\n",
        "import bert\n",
        "from bert.tokenization.bert_tokenization import FullTokenizer\n",
        "from bert.loader import StockBertConfig, map_stock_config_to_params, load_stock_weights\n",
        "from bert import BertModelLayer\n",
        "\n",
        "from tensorflow.keras import initializers \n",
        "from tensorflow.keras import regularizers\n",
        "from tensorflow.keras import constraints\n",
        "\n",
        "from tensorflow.keras import activations \n",
        "from tensorflow.keras import backend as K\n",
        "\n",
        "# from tensorflow.keras.utils.np_utils import to_categorical\n",
        "from tensorflow.keras import optimizers\n",
        "from sklearn.metrics import confusion_matrix, classification_report\n",
        "from tensorflow.keras.callbacks import EarlyStopping, ModelCheckpoint \n",
        "import tensorboard\n",
        "\n",
        "\n",
        "from tensorflow.keras.layers import Layer,Dropout, LSTM, GRU, Bidirectional, TimeDistributed, Dense"
      ]
    },
    {
      "cell_type": "code",
      "execution_count": 4,
      "metadata": {
        "id": "gVYg4R0XoWrY"
      },
      "outputs": [],
      "source": [
        "############################### path check (add path to data)\n",
        "root_path = ''\n",
        "list_of_files = []\n",
        "for root, dir, files in os.walk('../data'):\n",
        "  root_path = root\n",
        "  list_of_files = files\n",
        "  break "
      ]
    },
    {
      "cell_type": "code",
      "execution_count": 5,
      "metadata": {},
      "outputs": [
        {
          "name": "stdout",
          "output_type": "stream",
          "text": [
            "./Annotated - CSV\n",
            "['1288072330011.csv', '1288673034598.csv', '1289452697301.csv', '1289903641088.csv', '1290062946166.csv', '1290154724736_NEG.csv', '1291175003856_NEG.csv', '1312279794560.csv', '1312280268805.csv', '1314613428609.csv', '1315463402543.csv', '1324544561749.csv', '1358769139907.csv', '1372652426612.csv', '1372830044081.csv', '1380795608703.csv', '1382959468059.csv', '1404099510806.csv', '1404444629445.csv', '1404800940434.csv', '1407404311694.csv', '1407404374671.csv', '1407404413828.csv', '1409133457223.csv', '1427283185104.csv', '1494587603795.csv', '1509190608413.csv', '1522238936458.csv', '1564575450353.csv']\n"
          ]
        }
      ],
      "source": [
        "print(root_path)\n",
        "print(files)"
      ]
    },
    {
      "cell_type": "code",
      "execution_count": 6,
      "metadata": {
        "colab": {
          "base_uri": "https://localhost:8080/"
        },
        "id": "3iSGn-SeoY8n",
        "outputId": "db11c12c-5d80-4163-987c-7bacd07314dc"
      },
      "outputs": [],
      "source": [
        "all_dataframes = []\n",
        "for filename in list_of_files:\n",
        "  file_path = root_path + '/' + filename\n",
        "  file_temp = pd.read_csv(file_path)\n",
        "  all_dataframes.append(file_temp)"
      ]
    },
    {
      "cell_type": "code",
      "execution_count": 7,
      "metadata": {
        "colab": {
          "base_uri": "https://localhost:8080/",
          "height": 255
        },
        "id": "8DUShph8ueDM",
        "outputId": "14106433-aa5a-4aa2-db76-4f2dd8d9d55e"
      },
      "outputs": [
        {
          "data": {
            "text/html": [
              "<div>\n",
              "<style scoped>\n",
              "    .dataframe tbody tr th:only-of-type {\n",
              "        vertical-align: middle;\n",
              "    }\n",
              "\n",
              "    .dataframe tbody tr th {\n",
              "        vertical-align: top;\n",
              "    }\n",
              "\n",
              "    .dataframe thead th {\n",
              "        text-align: right;\n",
              "    }\n",
              "</style>\n",
              "<table border=\"1\" class=\"dataframe\">\n",
              "  <thead>\n",
              "    <tr style=\"text-align: right;\">\n",
              "      <th></th>\n",
              "      <th>Sentence ID</th>\n",
              "      <th>Label</th>\n",
              "      <th>Sentence</th>\n",
              "    </tr>\n",
              "  </thead>\n",
              "  <tbody>\n",
              "    <tr>\n",
              "      <th>0</th>\n",
              "      <td>F1288072330011_S1</td>\n",
              "      <td>material fact</td>\n",
              "      <td>1. The shares of Genus Commu Trade Limited (he...</td>\n",
              "    </tr>\n",
              "    <tr>\n",
              "      <th>1</th>\n",
              "      <td>F1288072330011_S2</td>\n",
              "      <td>procedural fact</td>\n",
              "      <td>SEBI conducted an investigation in respect of ...</td>\n",
              "    </tr>\n",
              "    <tr>\n",
              "      <th>2</th>\n",
              "      <td>F1288072330011_S3</td>\n",
              "      <td>material fact</td>\n",
              "      <td>2. During the investigation period, the scrip ...</td>\n",
              "    </tr>\n",
              "    <tr>\n",
              "      <th>3</th>\n",
              "      <td>F1288072330011_S4</td>\n",
              "      <td>material fact</td>\n",
              "      <td>The price reached the period low (intra day) o...</td>\n",
              "    </tr>\n",
              "    <tr>\n",
              "      <th>4</th>\n",
              "      <td>F1288072330011_S5</td>\n",
              "      <td>material fact</td>\n",
              "      <td>During the said period the total traded quanti...</td>\n",
              "    </tr>\n",
              "  </tbody>\n",
              "</table>\n",
              "</div>"
            ],
            "text/plain": [
              "         Sentence ID            Label  \\\n",
              "0  F1288072330011_S1    material fact   \n",
              "1  F1288072330011_S2  procedural fact   \n",
              "2  F1288072330011_S3    material fact   \n",
              "3  F1288072330011_S4    material fact   \n",
              "4  F1288072330011_S5    material fact   \n",
              "\n",
              "                                            Sentence  \n",
              "0  1. The shares of Genus Commu Trade Limited (he...  \n",
              "1  SEBI conducted an investigation in respect of ...  \n",
              "2  2. During the investigation period, the scrip ...  \n",
              "3  The price reached the period low (intra day) o...  \n",
              "4  During the said period the total traded quanti...  "
            ]
          },
          "execution_count": 7,
          "metadata": {},
          "output_type": "execute_result"
        }
      ],
      "source": [
        "all_dataframes[0].head()"
      ]
    },
    {
      "cell_type": "code",
      "execution_count": 8,
      "metadata": {
        "id": "Zofd5s8yu-wQ"
      },
      "outputs": [],
      "source": [
        "result = pd.DataFrame()\n",
        "result = result.append(all_dataframes,ignore_index=True)"
      ]
    },
    {
      "cell_type": "code",
      "execution_count": 9,
      "metadata": {},
      "outputs": [],
      "source": [
        "def tokenize_txt(txt):\n",
        "    stop_words = set(stopwords.words('english'))\n",
        "    #only take words or numbers in\n",
        "    tokenizer = RegexpTokenizer(r'[a-zA-Z]+', gaps=False)\n",
        "    tokens = tokenizer.tokenize(txt)\n",
        "    tokens = [word.lower() for word in tokens if word.lower() not in stop_words]\n",
        "    return tokens\n",
        "\n",
        "def lemmatization(data):\n",
        "    lemmatizer = WordNetLemmatizer()\n",
        "    lemmatized_text = [lemmatizer.lemmatize(word) for word in data]\n",
        "    return ' '.join(lemmatized_text)"
      ]
    },
    {
      "cell_type": "code",
      "execution_count": 10,
      "metadata": {},
      "outputs": [
        {
          "name": "stdout",
          "output_type": "stream",
          "text": [
            "         Sentence ID            Label  \\\n",
            "0  F1288072330011_S1    material fact   \n",
            "1  F1288072330011_S2  procedural fact   \n",
            "2  F1288072330011_S3    material fact   \n",
            "3  F1288072330011_S4    material fact   \n",
            "4  F1288072330011_S5    material fact   \n",
            "\n",
            "                                            Sentence  \n",
            "0  1. The shares of Genus Commu Trade Limited (he...  \n",
            "1  SEBI conducted an investigation in respect of ...  \n",
            "2  2. During the investigation period, the scrip ...  \n",
            "3  The price reached the period low (intra day) o...  \n",
            "4  During the said period the total traded quanti...  \n"
          ]
        }
      ],
      "source": [
        "print(result.head())"
      ]
    },
    {
      "cell_type": "code",
      "execution_count": 11,
      "metadata": {},
      "outputs": [],
      "source": [
        "# result['token'] = result['Sentence'].map(tokenize_txt)\n",
        "# result['lemma'] = result['token'].map(lemmatization)\n",
        "# result['tok_size'] = result['token'].apply(lambda x: len(x))"
      ]
    },
    {
      "cell_type": "code",
      "execution_count": 12,
      "metadata": {},
      "outputs": [
        {
          "name": "stdout",
          "output_type": "stream",
          "text": [
            "Sentence ID    2264\n",
            "Label          2264\n",
            "Sentence       2264\n",
            "dtype: int64\n"
          ]
        }
      ],
      "source": [
        "print(result.count())"
      ]
    },
    {
      "cell_type": "code",
      "execution_count": 13,
      "metadata": {
        "id": "xFZqENusvEOI"
      },
      "outputs": [],
      "source": [
        "train_data = pd.DataFrame(columns= result.columns)\n",
        "val_data = pd.DataFrame(columns=result.columns)\n",
        "test_data = pd.DataFrame(columns=result.columns)\n",
        "for label in result.Label.unique():\n",
        "  temp_df = result[result['Label'] == label]\n",
        "  train_index = int(temp_df.shape[0]*0.85)\n",
        "  train_data = train_data.append(temp_df[:train_index])\n",
        "  test_data = test_data.append(temp_df[train_index:])"
      ]
    },
    {
      "cell_type": "code",
      "execution_count": 14,
      "metadata": {
        "id": "Cq0lbc9ZvUSc"
      },
      "outputs": [],
      "source": [
        "train_data.drop(columns = ['Sentence ID'],axis=1,inplace=True)\n",
        "test_data.drop(columns = ['Sentence ID'],axis=1, inplace=True)"
      ]
    },
    {
      "cell_type": "code",
      "execution_count": 15,
      "metadata": {
        "colab": {
          "base_uri": "https://localhost:8080/",
          "height": 204
        },
        "id": "k2dLnXArvdTG",
        "outputId": "42bdc773-c23c-4f2f-fac3-ca75d459d050"
      },
      "outputs": [
        {
          "data": {
            "text/html": [
              "<div>\n",
              "<style scoped>\n",
              "    .dataframe tbody tr th:only-of-type {\n",
              "        vertical-align: middle;\n",
              "    }\n",
              "\n",
              "    .dataframe tbody tr th {\n",
              "        vertical-align: top;\n",
              "    }\n",
              "\n",
              "    .dataframe thead th {\n",
              "        text-align: right;\n",
              "    }\n",
              "</style>\n",
              "<table border=\"1\" class=\"dataframe\">\n",
              "  <thead>\n",
              "    <tr style=\"text-align: right;\">\n",
              "      <th></th>\n",
              "      <th>Label</th>\n",
              "      <th>Sentence</th>\n",
              "    </tr>\n",
              "  </thead>\n",
              "  <tbody>\n",
              "    <tr>\n",
              "      <th>0</th>\n",
              "      <td>material fact</td>\n",
              "      <td>1. The shares of Genus Commu Trade Limited (he...</td>\n",
              "    </tr>\n",
              "    <tr>\n",
              "      <th>2</th>\n",
              "      <td>material fact</td>\n",
              "      <td>2. During the investigation period, the scrip ...</td>\n",
              "    </tr>\n",
              "    <tr>\n",
              "      <th>3</th>\n",
              "      <td>material fact</td>\n",
              "      <td>The price reached the period low (intra day) o...</td>\n",
              "    </tr>\n",
              "    <tr>\n",
              "      <th>4</th>\n",
              "      <td>material fact</td>\n",
              "      <td>During the said period the total traded quanti...</td>\n",
              "    </tr>\n",
              "    <tr>\n",
              "      <th>5</th>\n",
              "      <td>material fact</td>\n",
              "      <td>3. For the two months (July 01, 2004 to August...</td>\n",
              "    </tr>\n",
              "  </tbody>\n",
              "</table>\n",
              "</div>"
            ],
            "text/plain": [
              "           Label                                           Sentence\n",
              "0  material fact  1. The shares of Genus Commu Trade Limited (he...\n",
              "2  material fact  2. During the investigation period, the scrip ...\n",
              "3  material fact  The price reached the period low (intra day) o...\n",
              "4  material fact  During the said period the total traded quanti...\n",
              "5  material fact  3. For the two months (July 01, 2004 to August..."
            ]
          },
          "execution_count": 15,
          "metadata": {},
          "output_type": "execute_result"
        }
      ],
      "source": [
        "train_data.head()"
      ]
    },
    {
      "cell_type": "code",
      "execution_count": 16,
      "metadata": {},
      "outputs": [
        {
          "name": "stdout",
          "output_type": "stream",
          "text": [
            "mean length of sentence: 35.17153284671533\n",
            "max length of sentence: 188\n",
            "std dev length of sentence: 23.503743535760414\n"
          ]
        }
      ],
      "source": [
        "train_data['l'] = train_data['Sentence'].apply(lambda x: len(str(x).split(' ')))\n",
        "print(\"mean length of sentence: \" + str(train_data.l.mean()))\n",
        "print(\"max length of sentence: \" + str(train_data.l.max()))\n",
        "print(\"std dev length of sentence: \" + str(train_data.l.std()))"
      ]
    },
    {
      "cell_type": "code",
      "execution_count": 17,
      "metadata": {},
      "outputs": [],
      "source": [
        "sequence_length = 188"
      ]
    },
    {
      "cell_type": "code",
      "execution_count": 18,
      "metadata": {},
      "outputs": [
        {
          "data": {
            "text/plain": [
              "['material fact',\n",
              " 'procedural fact',\n",
              " 'allegation',\n",
              " 'defendant claim',\n",
              " 'issues framed',\n",
              " 'statutory fact',\n",
              " 'subjective observation',\n",
              " 'violation',\n",
              " 'penalty',\n",
              " 'related fact']"
            ]
          },
          "execution_count": 18,
          "metadata": {},
          "output_type": "execute_result"
        }
      ],
      "source": [
        "classes = train_data.Label.unique().tolist()\n",
        "classes"
      ]
    },
    {
      "cell_type": "code",
      "execution_count": 19,
      "metadata": {},
      "outputs": [
        {
          "name": "stdout",
          "output_type": "stream",
          "text": [
            "test set size 227\n"
          ]
        }
      ],
      "source": [
        "max_features = 20000 # this is the number of words we care about\n",
        "\n",
        "tokenizer = Tokenizer(num_words=max_features, split=' ', oov_token='<unw>')\n",
        "tokenizer.fit_on_texts(result['Sentence'].values)\n",
        "\n",
        "# this takes our sentences and replaces each word with an integer\n",
        "X = tokenizer.texts_to_sequences(result['Sentence'].values)\n",
        "\n",
        "# we then pad the sequences so they're all the same length (sequence_length)\n",
        "X = pad_sequences(X, sequence_length)\n",
        "\n",
        "y = pd.get_dummies(result['Label']).values\n",
        "\n",
        "# where there isn't a test set, Kim keeps back 10% of the data for testing, I'm going to do the same since we have an ok amount to play with\n",
        "X_train, X_test, y_train, y_test = train_test_split(X, y, test_size=0.1)\n",
        "\n",
        "print(\"test set size \" + str(len(X_test)))"
      ]
    },
    {
      "cell_type": "code",
      "execution_count": 20,
      "metadata": {},
      "outputs": [],
      "source": [
        "logdir=\"logs/fit/\" + datetime.now().strftime(\"%Y%m%d-%H%M%S\")"
      ]
    },
    {
      "cell_type": "code",
      "execution_count": 21,
      "metadata": {},
      "outputs": [],
      "source": [
        "my_callbacks = [EarlyStopping(patience=150, monitor=\"val_loss\"),  ModelCheckpoint(filepath='model_cnn3.hdf5', save_best_only=False, save_weights_only = False, monitor='val_loss', mode='auto',save_freq = 'epoch'),keras.callbacks.TensorBoard(log_dir=logdir)]"
      ]
    },
    {
      "cell_type": "code",
      "execution_count": 22,
      "metadata": {},
      "outputs": [
        {
          "name": "stdout",
          "output_type": "stream",
          "text": [
            "Found 400000 word vectors.\n"
          ]
        }
      ],
      "source": [
        "embeddings_index = {}\n",
        "f = open('./glove.6B.200d.txt', encoding='utf-8')\n",
        "for line in f:\n",
        "    values = line.split()\n",
        "    word = values[0]\n",
        "    coefs = np.asarray(values[1:], dtype='float32')\n",
        "    embeddings_index[word] = coefs\n",
        "f.close()\n",
        "\n",
        "print('Found %s word vectors.' % len(embeddings_index))"
      ]
    },
    {
      "cell_type": "code",
      "execution_count": 23,
      "metadata": {},
      "outputs": [
        {
          "name": "stdout",
          "output_type": "stream",
          "text": [
            "Found 4059 unique tokens.\n"
          ]
        }
      ],
      "source": [
        "word_index = tokenizer.word_index\n",
        "print('Found %s unique tokens.' % len(word_index))"
      ]
    },
    {
      "cell_type": "code",
      "execution_count": 27,
      "metadata": {},
      "outputs": [],
      "source": [
        "embedding_dim = 200 # Kim uses 300 here\n",
        "num_filters = 100"
      ]
    },
    {
      "cell_type": "code",
      "execution_count": 28,
      "metadata": {},
      "outputs": [
        {
          "name": "stdout",
          "output_type": "stream",
          "text": [
            "4060\n"
          ]
        }
      ],
      "source": [
        "num_words = min(max_features, len(word_index)) + 1\n",
        "print(num_words)\n",
        "\n",
        "# first create a matrix of zeros, this is our embedding matrix\n",
        "embedding_matrix = np.zeros((num_words, embedding_dim))\n",
        "\n",
        "# for each word in out tokenizer lets try to find that work in our w2v model\n",
        "for word, i in word_index.items():\n",
        "    if i > max_features:\n",
        "        continue\n",
        "    embedding_vector = embeddings_index.get(word)\n",
        "    if embedding_vector is not None:\n",
        "        # we found the word - add that words vector to the matrix\n",
        "        embedding_matrix[i] = embedding_vector\n",
        "    else:\n",
        "        # doesn't exist, assign a random vector\n",
        "        embedding_matrix[i] = np.random.randn(embedding_dim)"
      ]
    },
    {
      "cell_type": "code",
      "execution_count": 36,
      "metadata": {},
      "outputs": [],
      "source": [
        "inputs_2 = Input(shape=(sequence_length,), dtype='int32')\n",
        "\n",
        "# note the `trainable=False`, later we will make this layer trainable\n",
        "embedding_layer_2 = Embedding(num_words,\n",
        "                            embedding_dim,\n",
        "                            embeddings_initializer=Constant(embedding_matrix),\n",
        "                            input_length=sequence_length,\n",
        "                            trainable=False)(inputs_2)\n",
        "\n",
        "reshape_2 = Reshape((sequence_length, embedding_dim, 1))(embedding_layer_2)\n",
        "\n",
        "conv_0_2 = Conv2D(num_filters, kernel_size=(3, embedding_dim), activation='relu', kernel_regularizer=regularizers.l2(3))(reshape_2)\n",
        "conv_1_2 = Conv2D(num_filters, kernel_size=(4, embedding_dim), activation='relu', kernel_regularizer=regularizers.l2(3))(reshape_2)\n",
        "conv_2_2 = Conv2D(num_filters, kernel_size=(5, embedding_dim), activation='relu', kernel_regularizer=regularizers.l2(3))(reshape_2)\n",
        "\n",
        "maxpool_0_2 = MaxPool2D(pool_size=(sequence_length - 3 + 1, 1), strides=(1,1), padding='valid')(conv_0_2)\n",
        "maxpool_1_2 = MaxPool2D(pool_size=(sequence_length - 4 + 1, 1), strides=(1,1), padding='valid')(conv_1_2)\n",
        "maxpool_2_2 = MaxPool2D(pool_size=(sequence_length - 5 + 1, 1), strides=(1,1), padding='valid')(conv_2_2)\n",
        "\n",
        "concatenated_tensor_2 = Concatenate(axis=1)([maxpool_0_2, maxpool_1_2, maxpool_2_2])\n",
        "flatten_2 = Flatten()(concatenated_tensor_2)\n",
        "\n",
        "dropout_2 = Dropout(0.5)(flatten_2)\n",
        "output_2 = Dense(units=10, activation='softmax')(dropout_2)"
      ]
    },
    {
      "cell_type": "code",
      "execution_count": 37,
      "metadata": {},
      "outputs": [
        {
          "name": "stdout",
          "output_type": "stream",
          "text": [
            "Model: \"model_1\"\n",
            "__________________________________________________________________________________________________\n",
            "Layer (type)                    Output Shape         Param #     Connected to                     \n",
            "==================================================================================================\n",
            "input_3 (InputLayer)            [(None, 188)]        0                                            \n",
            "__________________________________________________________________________________________________\n",
            "embedding_2 (Embedding)         (None, 188, 200)     812000      input_3[0][0]                    \n",
            "__________________________________________________________________________________________________\n",
            "reshape_2 (Reshape)             (None, 188, 200, 1)  0           embedding_2[0][0]                \n",
            "__________________________________________________________________________________________________\n",
            "conv2d_6 (Conv2D)               (None, 186, 1, 100)  60100       reshape_2[0][0]                  \n",
            "__________________________________________________________________________________________________\n",
            "conv2d_7 (Conv2D)               (None, 185, 1, 100)  80100       reshape_2[0][0]                  \n",
            "__________________________________________________________________________________________________\n",
            "conv2d_8 (Conv2D)               (None, 184, 1, 100)  100100      reshape_2[0][0]                  \n",
            "__________________________________________________________________________________________________\n",
            "max_pooling2d_6 (MaxPooling2D)  (None, 1, 1, 100)    0           conv2d_6[0][0]                   \n",
            "__________________________________________________________________________________________________\n",
            "max_pooling2d_7 (MaxPooling2D)  (None, 1, 1, 100)    0           conv2d_7[0][0]                   \n",
            "__________________________________________________________________________________________________\n",
            "max_pooling2d_8 (MaxPooling2D)  (None, 1, 1, 100)    0           conv2d_8[0][0]                   \n",
            "__________________________________________________________________________________________________\n",
            "concatenate_2 (Concatenate)     (None, 3, 1, 100)    0           max_pooling2d_6[0][0]            \n",
            "                                                                 max_pooling2d_7[0][0]            \n",
            "                                                                 max_pooling2d_8[0][0]            \n",
            "__________________________________________________________________________________________________\n",
            "flatten_2 (Flatten)             (None, 300)          0           concatenate_2[0][0]              \n",
            "__________________________________________________________________________________________________\n",
            "dropout_2 (Dropout)             (None, 300)          0           flatten_2[0][0]                  \n",
            "__________________________________________________________________________________________________\n",
            "dense_2 (Dense)                 (None, 10)           3010        dropout_2[0][0]                  \n",
            "==================================================================================================\n",
            "Total params: 1,055,310\n",
            "Trainable params: 243,310\n",
            "Non-trainable params: 812,000\n",
            "__________________________________________________________________________________________________\n",
            "None\n"
          ]
        }
      ],
      "source": [
        "model_2 = Model(inputs=inputs_2, outputs=output_2)\n",
        "model_2.compile(loss='categorical_crossentropy', optimizer='adam', metrics=['accuracy'])\n",
        "print(model_2.summary())"
      ]
    },
    {
      "cell_type": "code",
      "execution_count": 38,
      "metadata": {},
      "outputs": [],
      "source": [
        "logdir=\"logs/fit/\" + datetime.now().strftime(\"%Y%m%d-%H%M%S\")"
      ]
    },
    {
      "cell_type": "code",
      "execution_count": 39,
      "metadata": {},
      "outputs": [],
      "source": [
        "my_callbacks = [EarlyStopping(patience=150, monitor=\"val_loss\"),  ModelCheckpoint(filepath='model_cnn2.hdf5', save_best_only=True, save_weights_only = False, monitor='val_loss', mode='auto',save_freq = 'epoch'),keras.callbacks.TensorBoard(log_dir=logdir)]"
      ]
    },
    {
      "cell_type": "code",
      "execution_count": 40,
      "metadata": {},
      "outputs": [
        {
          "name": "stdout",
          "output_type": "stream",
          "text": [
            "Epoch 1/150\n",
            "51/51 [==============================] - 8s 40ms/step - loss: 3.6837 - accuracy: 0.3278 - val_loss: 2.2781 - val_accuracy: 0.3627\n",
            "Epoch 2/150\n",
            "51/51 [==============================] - 1s 16ms/step - loss: 2.2965 - accuracy: 0.3382 - val_loss: 2.2033 - val_accuracy: 0.3676\n",
            "Epoch 3/150\n",
            "51/51 [==============================] - 1s 16ms/step - loss: 2.2786 - accuracy: 0.3315 - val_loss: 2.2462 - val_accuracy: 0.3701\n",
            "Epoch 4/150\n",
            "51/51 [==============================] - 1s 16ms/step - loss: 2.3062 - accuracy: 0.3382 - val_loss: 2.2089 - val_accuracy: 0.2990\n",
            "Epoch 5/150\n",
            "51/51 [==============================] - 1s 16ms/step - loss: 2.3002 - accuracy: 0.3327 - val_loss: 2.2473 - val_accuracy: 0.3750\n",
            "Epoch 6/150\n",
            "51/51 [==============================] - 1s 16ms/step - loss: 2.2873 - accuracy: 0.3450 - val_loss: 2.2495 - val_accuracy: 0.3260\n",
            "Epoch 7/150\n",
            "51/51 [==============================] - 1s 15ms/step - loss: 2.2994 - accuracy: 0.3297 - val_loss: 2.2483 - val_accuracy: 0.3186\n",
            "Epoch 8/150\n",
            "51/51 [==============================] - 1s 15ms/step - loss: 2.2886 - accuracy: 0.3339 - val_loss: 2.2230 - val_accuracy: 0.3162\n",
            "Epoch 9/150\n",
            "51/51 [==============================] - 1s 15ms/step - loss: 2.2922 - accuracy: 0.3401 - val_loss: 2.2081 - val_accuracy: 0.3750\n",
            "Epoch 10/150\n",
            "51/51 [==============================] - 1s 15ms/step - loss: 2.2856 - accuracy: 0.3389 - val_loss: 2.2421 - val_accuracy: 0.3578\n",
            "Epoch 11/150\n",
            "51/51 [==============================] - 1s 16ms/step - loss: 2.2728 - accuracy: 0.3432 - val_loss: 2.2091 - val_accuracy: 0.3186\n",
            "Epoch 12/150\n",
            "51/51 [==============================] - 1s 16ms/step - loss: 2.3001 - accuracy: 0.3389 - val_loss: 2.2496 - val_accuracy: 0.3578\n",
            "Epoch 13/150\n",
            "51/51 [==============================] - 1s 16ms/step - loss: 2.3047 - accuracy: 0.3407 - val_loss: 2.2728 - val_accuracy: 0.3333\n",
            "Epoch 14/150\n",
            "51/51 [==============================] - 1s 16ms/step - loss: 2.3116 - accuracy: 0.3481 - val_loss: 2.2206 - val_accuracy: 0.3603\n",
            "Epoch 15/150\n",
            "51/51 [==============================] - 1s 15ms/step - loss: 2.2971 - accuracy: 0.3419 - val_loss: 2.2471 - val_accuracy: 0.3529\n",
            "Epoch 16/150\n",
            "51/51 [==============================] - 1s 16ms/step - loss: 2.2940 - accuracy: 0.3487 - val_loss: 2.2527 - val_accuracy: 0.3775\n",
            "Epoch 17/150\n",
            "51/51 [==============================] - 1s 16ms/step - loss: 2.2820 - accuracy: 0.3646 - val_loss: 2.2693 - val_accuracy: 0.3848\n",
            "Epoch 18/150\n",
            "51/51 [==============================] - 1s 16ms/step - loss: 2.2813 - accuracy: 0.3487 - val_loss: 2.3327 - val_accuracy: 0.3162\n",
            "Epoch 19/150\n",
            "51/51 [==============================] - 1s 17ms/step - loss: 2.2950 - accuracy: 0.3493 - val_loss: 2.2178 - val_accuracy: 0.3260\n",
            "Epoch 20/150\n",
            "51/51 [==============================] - 1s 16ms/step - loss: 2.2660 - accuracy: 0.3634 - val_loss: 2.2524 - val_accuracy: 0.3358\n",
            "Epoch 21/150\n",
            "51/51 [==============================] - 1s 16ms/step - loss: 2.2802 - accuracy: 0.3524 - val_loss: 2.2150 - val_accuracy: 0.3260\n",
            "Epoch 22/150\n",
            "51/51 [==============================] - 1s 16ms/step - loss: 2.2656 - accuracy: 0.3610 - val_loss: 2.2193 - val_accuracy: 0.3848\n",
            "Epoch 23/150\n",
            "51/51 [==============================] - 1s 17ms/step - loss: 2.2744 - accuracy: 0.3548 - val_loss: 2.3566 - val_accuracy: 0.3480\n",
            "Epoch 24/150\n",
            "51/51 [==============================] - 1s 16ms/step - loss: 2.3053 - accuracy: 0.3628 - val_loss: 2.2131 - val_accuracy: 0.3235\n",
            "Epoch 25/150\n",
            "51/51 [==============================] - 1s 15ms/step - loss: 2.2766 - accuracy: 0.3659 - val_loss: 2.1978 - val_accuracy: 0.3676\n",
            "Epoch 26/150\n",
            "51/51 [==============================] - 1s 14ms/step - loss: 2.2648 - accuracy: 0.3720 - val_loss: 2.1838 - val_accuracy: 0.3995\n",
            "Epoch 27/150\n",
            "51/51 [==============================] - 1s 14ms/step - loss: 2.2701 - accuracy: 0.3542 - val_loss: 2.2268 - val_accuracy: 0.3873\n",
            "Epoch 28/150\n",
            "51/51 [==============================] - 1s 14ms/step - loss: 2.2676 - accuracy: 0.3524 - val_loss: 2.1728 - val_accuracy: 0.4093\n",
            "Epoch 29/150\n",
            "51/51 [==============================] - 1s 14ms/step - loss: 2.2584 - accuracy: 0.3628 - val_loss: 2.2350 - val_accuracy: 0.3627\n",
            "Epoch 30/150\n",
            "51/51 [==============================] - 1s 13ms/step - loss: 2.2576 - accuracy: 0.3665 - val_loss: 2.1949 - val_accuracy: 0.3309\n",
            "Epoch 31/150\n",
            "51/51 [==============================] - 1s 13ms/step - loss: 2.2322 - accuracy: 0.3751 - val_loss: 2.1985 - val_accuracy: 0.3725\n",
            "Epoch 32/150\n",
            "51/51 [==============================] - 1s 13ms/step - loss: 2.2409 - accuracy: 0.3720 - val_loss: 2.1483 - val_accuracy: 0.4044\n",
            "Epoch 33/150\n",
            "51/51 [==============================] - 1s 13ms/step - loss: 2.2401 - accuracy: 0.3628 - val_loss: 2.2485 - val_accuracy: 0.3186\n",
            "Epoch 34/150\n",
            "51/51 [==============================] - 1s 13ms/step - loss: 2.2442 - accuracy: 0.3683 - val_loss: 2.1659 - val_accuracy: 0.3627\n",
            "Epoch 35/150\n",
            "51/51 [==============================] - 1s 13ms/step - loss: 2.2552 - accuracy: 0.3708 - val_loss: 2.1700 - val_accuracy: 0.3775\n",
            "Epoch 36/150\n",
            "51/51 [==============================] - 1s 13ms/step - loss: 2.2750 - accuracy: 0.3646 - val_loss: 2.1455 - val_accuracy: 0.3897\n",
            "Epoch 37/150\n",
            "51/51 [==============================] - 1s 13ms/step - loss: 2.2096 - accuracy: 0.3824 - val_loss: 2.1789 - val_accuracy: 0.3701\n",
            "Epoch 38/150\n",
            "51/51 [==============================] - 1s 13ms/step - loss: 2.2477 - accuracy: 0.3775 - val_loss: 2.1803 - val_accuracy: 0.3554\n",
            "Epoch 39/150\n",
            "51/51 [==============================] - 1s 14ms/step - loss: 2.2388 - accuracy: 0.3714 - val_loss: 2.1332 - val_accuracy: 0.3627\n",
            "Epoch 40/150\n",
            "51/51 [==============================] - 1s 13ms/step - loss: 2.2468 - accuracy: 0.3818 - val_loss: 2.1251 - val_accuracy: 0.3456\n",
            "Epoch 41/150\n",
            "51/51 [==============================] - 1s 15ms/step - loss: 2.2149 - accuracy: 0.3745 - val_loss: 2.1791 - val_accuracy: 0.3922\n",
            "Epoch 42/150\n",
            "51/51 [==============================] - 1s 13ms/step - loss: 2.1924 - accuracy: 0.3849 - val_loss: 2.1944 - val_accuracy: 0.4118\n",
            "Epoch 43/150\n",
            "51/51 [==============================] - 1s 13ms/step - loss: 2.2136 - accuracy: 0.4027 - val_loss: 2.2213 - val_accuracy: 0.3897\n",
            "Epoch 44/150\n",
            "51/51 [==============================] - 1s 13ms/step - loss: 2.2396 - accuracy: 0.3923 - val_loss: 2.2039 - val_accuracy: 0.4142\n",
            "Epoch 45/150\n",
            "51/51 [==============================] - 1s 13ms/step - loss: 2.2063 - accuracy: 0.3972 - val_loss: 2.1419 - val_accuracy: 0.3922\n",
            "Epoch 46/150\n",
            "51/51 [==============================] - 1s 13ms/step - loss: 2.2060 - accuracy: 0.3708 - val_loss: 2.3052 - val_accuracy: 0.3578\n",
            "Epoch 47/150\n",
            "51/51 [==============================] - 1s 14ms/step - loss: 2.2261 - accuracy: 0.3910 - val_loss: 2.1434 - val_accuracy: 0.3676\n",
            "Epoch 48/150\n",
            "51/51 [==============================] - 1s 14ms/step - loss: 2.2064 - accuracy: 0.3972 - val_loss: 2.1516 - val_accuracy: 0.4363\n",
            "Epoch 49/150\n",
            "51/51 [==============================] - 1s 14ms/step - loss: 2.1844 - accuracy: 0.3935 - val_loss: 2.1693 - val_accuracy: 0.4387\n",
            "Epoch 50/150\n",
            "51/51 [==============================] - 1s 13ms/step - loss: 2.1983 - accuracy: 0.3861 - val_loss: 2.1700 - val_accuracy: 0.3946\n",
            "Epoch 51/150\n",
            "51/51 [==============================] - 1s 13ms/step - loss: 2.2064 - accuracy: 0.3935 - val_loss: 2.1615 - val_accuracy: 0.3676\n",
            "Epoch 52/150\n",
            "51/51 [==============================] - 1s 13ms/step - loss: 2.1852 - accuracy: 0.3886 - val_loss: 2.0659 - val_accuracy: 0.3750\n",
            "Epoch 53/150\n",
            "51/51 [==============================] - 1s 13ms/step - loss: 2.1972 - accuracy: 0.3720 - val_loss: 2.1206 - val_accuracy: 0.4142\n",
            "Epoch 54/150\n",
            "51/51 [==============================] - 1s 13ms/step - loss: 2.1895 - accuracy: 0.3794 - val_loss: 2.0729 - val_accuracy: 0.3775\n",
            "Epoch 55/150\n",
            "51/51 [==============================] - 1s 13ms/step - loss: 2.1906 - accuracy: 0.3775 - val_loss: 2.0980 - val_accuracy: 0.3431\n",
            "Epoch 56/150\n",
            "51/51 [==============================] - 1s 13ms/step - loss: 2.1758 - accuracy: 0.3886 - val_loss: 2.0826 - val_accuracy: 0.3505\n",
            "Epoch 57/150\n",
            "51/51 [==============================] - 1s 13ms/step - loss: 2.1644 - accuracy: 0.4009 - val_loss: 2.1155 - val_accuracy: 0.4338\n",
            "Epoch 58/150\n",
            "51/51 [==============================] - 1s 13ms/step - loss: 2.1289 - accuracy: 0.4002 - val_loss: 2.0879 - val_accuracy: 0.4338\n",
            "Epoch 59/150\n",
            "51/51 [==============================] - 1s 13ms/step - loss: 2.1498 - accuracy: 0.4211 - val_loss: 2.0941 - val_accuracy: 0.4093\n",
            "Epoch 60/150\n",
            "51/51 [==============================] - 1s 14ms/step - loss: 2.1745 - accuracy: 0.3996 - val_loss: 2.1643 - val_accuracy: 0.3995\n",
            "Epoch 61/150\n",
            "51/51 [==============================] - 1s 13ms/step - loss: 2.1617 - accuracy: 0.3984 - val_loss: 2.1544 - val_accuracy: 0.3333\n",
            "Epoch 62/150\n",
            "51/51 [==============================] - 1s 13ms/step - loss: 2.1431 - accuracy: 0.4015 - val_loss: 2.0838 - val_accuracy: 0.4020\n",
            "Epoch 63/150\n",
            "51/51 [==============================] - 1s 13ms/step - loss: 2.1599 - accuracy: 0.4039 - val_loss: 2.1587 - val_accuracy: 0.3946\n",
            "Epoch 64/150\n",
            "51/51 [==============================] - 1s 13ms/step - loss: 2.1653 - accuracy: 0.3831 - val_loss: 2.1191 - val_accuracy: 0.4436\n",
            "Epoch 65/150\n",
            "51/51 [==============================] - 1s 13ms/step - loss: 2.1597 - accuracy: 0.4064 - val_loss: 2.0894 - val_accuracy: 0.4559\n",
            "Epoch 66/150\n",
            "51/51 [==============================] - 1s 13ms/step - loss: 2.1350 - accuracy: 0.3972 - val_loss: 2.0868 - val_accuracy: 0.4412\n",
            "Epoch 67/150\n",
            "51/51 [==============================] - 1s 13ms/step - loss: 2.1514 - accuracy: 0.4076 - val_loss: 2.1074 - val_accuracy: 0.3897\n",
            "Epoch 68/150\n",
            "51/51 [==============================] - 1s 13ms/step - loss: 2.1251 - accuracy: 0.3941 - val_loss: 2.0787 - val_accuracy: 0.4167\n",
            "Epoch 69/150\n",
            "51/51 [==============================] - 1s 13ms/step - loss: 2.1184 - accuracy: 0.4113 - val_loss: 2.0989 - val_accuracy: 0.4559\n",
            "Epoch 70/150\n",
            "51/51 [==============================] - 1s 13ms/step - loss: 2.1164 - accuracy: 0.4101 - val_loss: 2.0576 - val_accuracy: 0.3578\n",
            "Epoch 71/150\n",
            "51/51 [==============================] - 1s 14ms/step - loss: 2.1158 - accuracy: 0.4064 - val_loss: 2.0693 - val_accuracy: 0.4265\n",
            "Epoch 72/150\n",
            "51/51 [==============================] - 1s 13ms/step - loss: 2.1269 - accuracy: 0.3935 - val_loss: 2.0958 - val_accuracy: 0.3971\n",
            "Epoch 73/150\n",
            "51/51 [==============================] - 1s 13ms/step - loss: 2.1405 - accuracy: 0.3837 - val_loss: 2.0543 - val_accuracy: 0.4142\n",
            "Epoch 74/150\n",
            "51/51 [==============================] - 1s 13ms/step - loss: 2.1207 - accuracy: 0.4021 - val_loss: 2.0722 - val_accuracy: 0.3848\n",
            "Epoch 75/150\n",
            "51/51 [==============================] - 1s 13ms/step - loss: 2.1159 - accuracy: 0.3972 - val_loss: 2.0729 - val_accuracy: 0.4363\n",
            "Epoch 76/150\n",
            "51/51 [==============================] - 1s 13ms/step - loss: 2.1266 - accuracy: 0.4064 - val_loss: 2.0081 - val_accuracy: 0.3971\n",
            "Epoch 77/150\n",
            "51/51 [==============================] - 1s 13ms/step - loss: 2.0964 - accuracy: 0.4168 - val_loss: 2.0047 - val_accuracy: 0.4142\n",
            "Epoch 78/150\n",
            "51/51 [==============================] - 1s 13ms/step - loss: 2.0790 - accuracy: 0.4119 - val_loss: 2.0189 - val_accuracy: 0.4191\n",
            "Epoch 79/150\n",
            "51/51 [==============================] - 1s 13ms/step - loss: 2.0986 - accuracy: 0.4027 - val_loss: 2.1054 - val_accuracy: 0.3946\n",
            "Epoch 80/150\n",
            "51/51 [==============================] - 1s 13ms/step - loss: 2.0974 - accuracy: 0.3972 - val_loss: 2.0766 - val_accuracy: 0.4387\n",
            "Epoch 81/150\n",
            "51/51 [==============================] - 1s 13ms/step - loss: 2.1085 - accuracy: 0.4058 - val_loss: 2.0556 - val_accuracy: 0.4240\n",
            "Epoch 82/150\n",
            "51/51 [==============================] - 1s 14ms/step - loss: 2.1040 - accuracy: 0.4131 - val_loss: 2.0474 - val_accuracy: 0.3971\n",
            "Epoch 83/150\n",
            "51/51 [==============================] - 1s 13ms/step - loss: 2.0889 - accuracy: 0.4095 - val_loss: 2.0268 - val_accuracy: 0.4093\n",
            "Epoch 84/150\n",
            "51/51 [==============================] - 1s 13ms/step - loss: 2.1315 - accuracy: 0.4021 - val_loss: 2.0772 - val_accuracy: 0.3799\n",
            "Epoch 85/150\n",
            "51/51 [==============================] - 1s 13ms/step - loss: 2.0999 - accuracy: 0.4187 - val_loss: 2.0308 - val_accuracy: 0.4534\n",
            "Epoch 86/150\n",
            "51/51 [==============================] - 1s 13ms/step - loss: 2.1059 - accuracy: 0.4082 - val_loss: 2.0627 - val_accuracy: 0.3995\n",
            "Epoch 87/150\n",
            "51/51 [==============================] - 1s 13ms/step - loss: 2.1037 - accuracy: 0.3978 - val_loss: 1.9890 - val_accuracy: 0.4289\n",
            "Epoch 88/150\n",
            "51/51 [==============================] - 1s 13ms/step - loss: 2.0981 - accuracy: 0.4002 - val_loss: 2.0483 - val_accuracy: 0.3750\n",
            "Epoch 89/150\n",
            "51/51 [==============================] - 1s 13ms/step - loss: 2.0986 - accuracy: 0.4039 - val_loss: 2.0327 - val_accuracy: 0.3995\n",
            "Epoch 90/150\n",
            "51/51 [==============================] - 1s 13ms/step - loss: 2.0952 - accuracy: 0.4101 - val_loss: 2.0356 - val_accuracy: 0.4314\n",
            "Epoch 91/150\n",
            "51/51 [==============================] - 1s 13ms/step - loss: 2.0881 - accuracy: 0.3886 - val_loss: 2.0434 - val_accuracy: 0.3676\n",
            "Epoch 92/150\n",
            "51/51 [==============================] - 1s 13ms/step - loss: 2.0978 - accuracy: 0.4088 - val_loss: 2.0455 - val_accuracy: 0.4118\n",
            "Epoch 93/150\n",
            "51/51 [==============================] - 1s 14ms/step - loss: 2.0702 - accuracy: 0.4088 - val_loss: 2.0282 - val_accuracy: 0.4583\n",
            "Epoch 94/150\n",
            "51/51 [==============================] - 1s 13ms/step - loss: 2.0778 - accuracy: 0.4162 - val_loss: 2.0212 - val_accuracy: 0.4118\n",
            "Epoch 95/150\n",
            "51/51 [==============================] - 1s 13ms/step - loss: 2.1057 - accuracy: 0.4045 - val_loss: 1.9845 - val_accuracy: 0.3995\n",
            "Epoch 96/150\n",
            "51/51 [==============================] - 1s 13ms/step - loss: 2.0538 - accuracy: 0.4064 - val_loss: 2.0941 - val_accuracy: 0.4118\n",
            "Epoch 97/150\n",
            "51/51 [==============================] - 1s 13ms/step - loss: 2.0522 - accuracy: 0.4230 - val_loss: 2.0301 - val_accuracy: 0.4510\n",
            "Epoch 98/150\n",
            "51/51 [==============================] - 1s 14ms/step - loss: 2.0828 - accuracy: 0.4070 - val_loss: 2.0087 - val_accuracy: 0.3995\n",
            "Epoch 99/150\n",
            "51/51 [==============================] - 1s 13ms/step - loss: 2.1029 - accuracy: 0.4070 - val_loss: 2.0215 - val_accuracy: 0.4338\n",
            "Epoch 100/150\n",
            "51/51 [==============================] - 1s 13ms/step - loss: 2.0719 - accuracy: 0.4156 - val_loss: 2.0267 - val_accuracy: 0.4755\n",
            "Epoch 101/150\n",
            "51/51 [==============================] - 1s 14ms/step - loss: 2.0643 - accuracy: 0.4187 - val_loss: 2.0098 - val_accuracy: 0.4485\n",
            "Epoch 102/150\n",
            "51/51 [==============================] - 1s 13ms/step - loss: 2.0739 - accuracy: 0.4119 - val_loss: 1.9973 - val_accuracy: 0.4289\n",
            "Epoch 103/150\n",
            "51/51 [==============================] - 1s 14ms/step - loss: 2.0705 - accuracy: 0.4144 - val_loss: 2.0428 - val_accuracy: 0.4191\n",
            "Epoch 104/150\n",
            "51/51 [==============================] - 1s 13ms/step - loss: 2.0682 - accuracy: 0.3990 - val_loss: 1.9940 - val_accuracy: 0.4240\n",
            "Epoch 105/150\n",
            "51/51 [==============================] - 1s 13ms/step - loss: 2.0607 - accuracy: 0.4027 - val_loss: 2.0030 - val_accuracy: 0.4020\n",
            "Epoch 106/150\n",
            "51/51 [==============================] - 1s 13ms/step - loss: 2.0534 - accuracy: 0.4205 - val_loss: 1.9979 - val_accuracy: 0.4828\n",
            "Epoch 107/150\n",
            "51/51 [==============================] - 1s 13ms/step - loss: 2.0835 - accuracy: 0.3917 - val_loss: 2.0068 - val_accuracy: 0.4167\n",
            "Epoch 108/150\n",
            "51/51 [==============================] - 1s 13ms/step - loss: 2.0560 - accuracy: 0.4125 - val_loss: 1.9848 - val_accuracy: 0.4020\n",
            "Epoch 109/150\n",
            "51/51 [==============================] - 1s 13ms/step - loss: 2.0861 - accuracy: 0.4131 - val_loss: 2.0144 - val_accuracy: 0.3676\n",
            "Epoch 110/150\n",
            "51/51 [==============================] - 1s 13ms/step - loss: 2.0556 - accuracy: 0.3990 - val_loss: 2.0436 - val_accuracy: 0.4240\n",
            "Epoch 111/150\n",
            "51/51 [==============================] - 1s 13ms/step - loss: 2.0747 - accuracy: 0.3898 - val_loss: 1.9837 - val_accuracy: 0.4142\n",
            "Epoch 112/150\n",
            "51/51 [==============================] - 1s 13ms/step - loss: 2.0381 - accuracy: 0.4107 - val_loss: 1.9873 - val_accuracy: 0.4044\n",
            "Epoch 113/150\n",
            "51/51 [==============================] - 1s 14ms/step - loss: 2.0707 - accuracy: 0.4125 - val_loss: 1.9513 - val_accuracy: 0.4632\n",
            "Epoch 114/150\n",
            "51/51 [==============================] - 1s 13ms/step - loss: 2.0377 - accuracy: 0.4138 - val_loss: 1.9496 - val_accuracy: 0.4142\n",
            "Epoch 115/150\n",
            "51/51 [==============================] - 1s 13ms/step - loss: 2.0309 - accuracy: 0.4199 - val_loss: 1.9934 - val_accuracy: 0.4387\n",
            "Epoch 116/150\n",
            "51/51 [==============================] - 1s 13ms/step - loss: 2.0605 - accuracy: 0.4052 - val_loss: 1.9934 - val_accuracy: 0.3922\n",
            "Epoch 117/150\n",
            "51/51 [==============================] - 1s 13ms/step - loss: 2.0458 - accuracy: 0.4033 - val_loss: 1.9714 - val_accuracy: 0.4412\n",
            "Epoch 118/150\n",
            "51/51 [==============================] - 1s 13ms/step - loss: 2.0396 - accuracy: 0.4095 - val_loss: 1.9816 - val_accuracy: 0.4314\n",
            "Epoch 119/150\n",
            "51/51 [==============================] - 1s 13ms/step - loss: 2.0497 - accuracy: 0.4162 - val_loss: 1.9869 - val_accuracy: 0.3897\n",
            "Epoch 120/150\n",
            "51/51 [==============================] - 1s 13ms/step - loss: 2.0599 - accuracy: 0.4101 - val_loss: 2.0190 - val_accuracy: 0.3873\n",
            "Epoch 121/150\n",
            "51/51 [==============================] - 1s 13ms/step - loss: 2.0469 - accuracy: 0.4052 - val_loss: 1.9844 - val_accuracy: 0.4314\n",
            "Epoch 122/150\n",
            "51/51 [==============================] - 1s 13ms/step - loss: 2.0444 - accuracy: 0.4193 - val_loss: 1.9643 - val_accuracy: 0.4828\n",
            "Epoch 123/150\n",
            "51/51 [==============================] - 1s 14ms/step - loss: 2.0607 - accuracy: 0.4144 - val_loss: 2.0064 - val_accuracy: 0.4216\n",
            "Epoch 124/150\n",
            "51/51 [==============================] - 1s 14ms/step - loss: 2.0666 - accuracy: 0.4119 - val_loss: 1.9629 - val_accuracy: 0.4559\n",
            "Epoch 125/150\n",
            "51/51 [==============================] - 1s 13ms/step - loss: 2.0443 - accuracy: 0.4279 - val_loss: 1.9829 - val_accuracy: 0.4314\n",
            "Epoch 126/150\n",
            "51/51 [==============================] - 1s 13ms/step - loss: 2.0439 - accuracy: 0.4162 - val_loss: 1.9708 - val_accuracy: 0.4510\n",
            "Epoch 127/150\n",
            "51/51 [==============================] - 1s 13ms/step - loss: 2.0658 - accuracy: 0.4138 - val_loss: 1.9650 - val_accuracy: 0.4338\n",
            "Epoch 128/150\n",
            "51/51 [==============================] - 1s 13ms/step - loss: 2.0085 - accuracy: 0.4303 - val_loss: 2.0018 - val_accuracy: 0.4559\n",
            "Epoch 129/150\n",
            "51/51 [==============================] - 1s 13ms/step - loss: 2.0534 - accuracy: 0.4144 - val_loss: 1.9927 - val_accuracy: 0.4338\n",
            "Epoch 130/150\n",
            "51/51 [==============================] - 1s 13ms/step - loss: 2.0332 - accuracy: 0.4131 - val_loss: 1.9519 - val_accuracy: 0.4461\n",
            "Epoch 131/150\n",
            "51/51 [==============================] - 1s 13ms/step - loss: 2.0360 - accuracy: 0.4033 - val_loss: 1.9294 - val_accuracy: 0.4265\n",
            "Epoch 132/150\n",
            "51/51 [==============================] - 1s 14ms/step - loss: 2.0379 - accuracy: 0.4266 - val_loss: 1.9658 - val_accuracy: 0.4289\n",
            "Epoch 133/150\n",
            "51/51 [==============================] - 1s 13ms/step - loss: 2.0443 - accuracy: 0.4144 - val_loss: 1.9460 - val_accuracy: 0.4436\n",
            "Epoch 134/150\n",
            "51/51 [==============================] - 1s 13ms/step - loss: 2.0274 - accuracy: 0.4101 - val_loss: 1.9296 - val_accuracy: 0.4559\n",
            "Epoch 135/150\n",
            "51/51 [==============================] - 1s 13ms/step - loss: 2.0138 - accuracy: 0.4260 - val_loss: 1.9912 - val_accuracy: 0.4412\n",
            "Epoch 136/150\n",
            "51/51 [==============================] - 1s 13ms/step - loss: 2.0161 - accuracy: 0.4242 - val_loss: 1.9413 - val_accuracy: 0.4559\n",
            "Epoch 137/150\n",
            "51/51 [==============================] - 1s 13ms/step - loss: 2.0050 - accuracy: 0.4279 - val_loss: 1.9947 - val_accuracy: 0.4363\n",
            "Epoch 138/150\n",
            "51/51 [==============================] - 1s 13ms/step - loss: 2.0390 - accuracy: 0.4168 - val_loss: 1.9814 - val_accuracy: 0.4167\n",
            "Epoch 139/150\n",
            "51/51 [==============================] - 1s 13ms/step - loss: 2.0085 - accuracy: 0.4303 - val_loss: 1.9368 - val_accuracy: 0.4853\n",
            "Epoch 140/150\n",
            "51/51 [==============================] - 1s 13ms/step - loss: 2.0169 - accuracy: 0.4193 - val_loss: 1.9579 - val_accuracy: 0.4338\n",
            "Epoch 141/150\n",
            "51/51 [==============================] - 1s 13ms/step - loss: 2.0806 - accuracy: 0.4156 - val_loss: 1.9690 - val_accuracy: 0.4534\n",
            "Epoch 142/150\n",
            "51/51 [==============================] - 1s 14ms/step - loss: 2.0509 - accuracy: 0.4193 - val_loss: 1.9388 - val_accuracy: 0.4265\n",
            "Epoch 143/150\n",
            "51/51 [==============================] - 1s 13ms/step - loss: 2.0238 - accuracy: 0.4045 - val_loss: 1.9461 - val_accuracy: 0.4583\n",
            "Epoch 144/150\n",
            "51/51 [==============================] - 1s 13ms/step - loss: 2.0565 - accuracy: 0.4193 - val_loss: 1.9690 - val_accuracy: 0.4779\n",
            "Epoch 145/150\n",
            "51/51 [==============================] - 1s 13ms/step - loss: 2.0412 - accuracy: 0.4187 - val_loss: 1.9590 - val_accuracy: 0.4338\n",
            "Epoch 146/150\n",
            "51/51 [==============================] - 1s 14ms/step - loss: 2.0360 - accuracy: 0.4168 - val_loss: 1.9179 - val_accuracy: 0.4461\n",
            "Epoch 147/150\n",
            "51/51 [==============================] - 1s 13ms/step - loss: 2.0300 - accuracy: 0.4303 - val_loss: 1.9281 - val_accuracy: 0.4216\n",
            "Epoch 148/150\n",
            "51/51 [==============================] - 1s 13ms/step - loss: 2.0215 - accuracy: 0.4236 - val_loss: 1.9464 - val_accuracy: 0.4240\n",
            "Epoch 149/150\n",
            "51/51 [==============================] - 1s 14ms/step - loss: 2.0226 - accuracy: 0.4223 - val_loss: 1.9832 - val_accuracy: 0.3775\n",
            "Epoch 150/150\n",
            "51/51 [==============================] - 1s 13ms/step - loss: 2.0215 - accuracy: 0.4125 - val_loss: 1.9642 - val_accuracy: 0.4387\n"
          ]
        }
      ],
      "source": [
        "batch_size = 32\n",
        "history_2 = model_2.fit(X_train, y_train, epochs=150, batch_size=batch_size, verbose=1, validation_split=0.2, callbacks=my_callbacks)"
      ]
    },
    {
      "cell_type": "code",
      "execution_count": 41,
      "metadata": {},
      "outputs": [],
      "source": [
        "model = tf.keras.models.load_model('model_cnn2.hdf5')"
      ]
    },
    {
      "cell_type": "code",
      "execution_count": 42,
      "metadata": {},
      "outputs": [],
      "source": [
        "y_pred = model.predict(X_test).argmax(axis=-1)"
      ]
    },
    {
      "cell_type": "code",
      "execution_count": 43,
      "metadata": {},
      "outputs": [
        {
          "name": "stdout",
          "output_type": "stream",
          "text": [
            "[1 1 1 3 1 5 1 7 1 5 1 1 1 1 3 3 1 7 1 5 3 1 5 5 1 1 7 3 1 5 1 5 1 1 7 3 1\n",
            " 5 1 3 3 1 5 7 5 3 5 1 1 7 1 1 1 7 1 1 3 3 3 5 5 3 1 1 3 7 7 1 1 5 1 1 1 1\n",
            " 5 1 5 1 8 1 1 1 1 5 1 1 1 5 1 3 1 5 3 1 1 1 3 3 5 1 5 1 1 1 5 5 3 1 3 1 1\n",
            " 1 1 5 1 1 1 1 7 1 3 3 1 5 3 1 1 5 1 1 5 1 1 3 1 5 1 1 8 5 5 7 1 1 1 3 1 1\n",
            " 1 1 1 1 5 1 5 1 3 5 1 7 1 1 1 5 3 1 5 5 1 1 5 3 1 3 5 1 5 1 3 1 5 1 5 1 1\n",
            " 1 1 1 1 1 5 5 5 3 1 5 1 1 5 1 1 5 5 3 1 1 1 1 3 5 1 3 1 5 5 1 1 3 5 1 1 1\n",
            " 1 1 1 3 1]\n"
          ]
        }
      ],
      "source": [
        "print(y_pred)"
      ]
    },
    {
      "cell_type": "code",
      "execution_count": 68,
      "metadata": {},
      "outputs": [
        {
          "name": "stdout",
          "output_type": "stream",
          "text": [
            "[5 1 3 2 8 3 1 5 1 1 1 1 2 1 0 8 7 5 3 9 3 8 1 1 3 8 5 1 3 1 5 5 5 3 2 7 5\n",
            " 1 9 1 8 1 6 6 8 1 4 1 3 1 1 3 6 5 8 3 8 8 2 7 8 1 0 3 0 5 3 3 3 2 7 1 1 8\n",
            " 1 8 3 3 0 3 1 1 1 4 0 0 1 5 1 1 1 1 4 1 5 5 1 1 3 8 0 1 9 8 1 8 8 3 1 5 3\n",
            " 3 8 7 0 7 8 3 8 3 7 5 3 8 1 2 5 1 1 3 1 1 3 6 7 3 0 2 0 3 9 7 3 8 3 1 8 5\n",
            " 8 8 5 1 1 5 1 8 3 1 3 5 3 7 1 1 3 1 2 8 3 6 2 8 1 0 3 1 3 8 4 1 1 5 3 5 1\n",
            " 1 3 1 3 5 5 5 2 3 8 7 1 9 7 5 1 5 3 7 1 2 1 3 3 3 1 5 7 5 0 1 5 3 8 8 7 3\n",
            " 1 5 8 3 1]\n"
          ]
        }
      ],
      "source": [
        "y_test_final = []\n",
        "for i in y_test:\n",
        "    y_test_final.extend(np.where(i==1)[0])\n",
        "y_test_final = np.array(y_test_final)\n",
        "print(y_test_final)"
      ]
    },
    {
      "cell_type": "code",
      "execution_count": 44,
      "metadata": {},
      "outputs": [],
      "source": [
        "y_test = np.array(y_test).argmax(axis=-1)"
      ]
    },
    {
      "cell_type": "code",
      "execution_count": 45,
      "metadata": {},
      "outputs": [
        {
          "name": "stdout",
          "output_type": "stream",
          "text": [
            "                        precision    recall  f1-score   support\n",
            "\n",
            "         material fact       0.00      0.00      0.00        11\n",
            "       procedural fact       0.37      0.79      0.50        58\n",
            "            allegation       0.00      0.00      0.00         5\n",
            "       defendant claim       0.53      0.35      0.42        54\n",
            "         issues framed       0.00      0.00      0.00         1\n",
            "        statutory fact       0.40      0.64      0.49        33\n",
            "subjective observation       0.00      0.00      0.00        10\n",
            "             violation       0.67      0.32      0.43        25\n",
            "               penalty       0.50      0.04      0.07        26\n",
            "          related fact       0.00      0.00      0.00         4\n",
            "\n",
            "              accuracy                           0.42       227\n",
            "             macro avg       0.25      0.21      0.19       227\n",
            "          weighted avg       0.41      0.42      0.36       227\n",
            "\n"
          ]
        },
        {
          "name": "stderr",
          "output_type": "stream",
          "text": [
            "D:\\miniconda3\\lib\\site-packages\\sklearn\\metrics\\_classification.py:1245: UndefinedMetricWarning: Precision and F-score are ill-defined and being set to 0.0 in labels with no predicted samples. Use `zero_division` parameter to control this behavior.\n",
            "  _warn_prf(average, modifier, msg_start, len(result))\n",
            "D:\\miniconda3\\lib\\site-packages\\sklearn\\metrics\\_classification.py:1245: UndefinedMetricWarning: Precision and F-score are ill-defined and being set to 0.0 in labels with no predicted samples. Use `zero_division` parameter to control this behavior.\n",
            "  _warn_prf(average, modifier, msg_start, len(result))\n",
            "D:\\miniconda3\\lib\\site-packages\\sklearn\\metrics\\_classification.py:1245: UndefinedMetricWarning: Precision and F-score are ill-defined and being set to 0.0 in labels with no predicted samples. Use `zero_division` parameter to control this behavior.\n",
            "  _warn_prf(average, modifier, msg_start, len(result))\n"
          ]
        }
      ],
      "source": [
        "print(classification_report(y_test, y_pred, target_names=classes))"
      ]
    },
    {
      "cell_type": "code",
      "execution_count": 47,
      "metadata": {},
      "outputs": [
        {
          "data": {
            "text/plain": [
              "0.41291992839923486"
            ]
          },
          "execution_count": 47,
          "metadata": {},
          "output_type": "execute_result"
        }
      ],
      "source": [
        "f1_score(y_test, y_pred, average='weighted', labels=np.unique(y_pred))"
      ]
    },
    {
      "cell_type": "code",
      "execution_count": 24,
      "metadata": {
        "colab": {
          "base_uri": "https://localhost:8080/"
        },
        "id": "4JfgiWqbalgq",
        "outputId": "bc2984da-c177-4e63-a0c4-b1e9a5047660"
      },
      "outputs": [
        {
          "ename": "NameError",
          "evalue": "name 'data' is not defined",
          "output_type": "error",
          "traceback": [
            "\u001b[1;31m---------------------------------------------------------------------------\u001b[0m",
            "\u001b[1;31mNameError\u001b[0m                                 Traceback (most recent call last)",
            "\u001b[1;32m<ipython-input-24-f974fb20e58e>\u001b[0m in \u001b[0;36m<module>\u001b[1;34m\u001b[0m\n\u001b[1;32m----> 1\u001b[1;33m \u001b[0mprint\u001b[0m\u001b[1;33m(\u001b[0m\u001b[0mclassification_report\u001b[0m\u001b[1;33m(\u001b[0m\u001b[0mdata\u001b[0m\u001b[1;33m.\u001b[0m\u001b[0mtest_y\u001b[0m\u001b[1;33m,\u001b[0m \u001b[0my_pred\u001b[0m\u001b[1;33m,\u001b[0m \u001b[0mtarget_names\u001b[0m\u001b[1;33m=\u001b[0m\u001b[0mclasses\u001b[0m\u001b[1;33m)\u001b[0m\u001b[1;33m)\u001b[0m\u001b[1;33m\u001b[0m\u001b[1;33m\u001b[0m\u001b[0m\n\u001b[0m",
            "\u001b[1;31mNameError\u001b[0m: name 'data' is not defined"
          ]
        }
      ],
      "source": [
        "print(classification_report(data.test_y, y_pred, target_names=classes))"
      ]
    },
    {
      "cell_type": "code",
      "execution_count": null,
      "metadata": {
        "id": "a2xkyASSaokK"
      },
      "outputs": [],
      "source": [
        "cm = confusion_matrix(y_true=data.test_y, y_pred= y_pred)"
      ]
    },
    {
      "cell_type": "code",
      "execution_count": null,
      "metadata": {
        "colab": {
          "base_uri": "https://localhost:8080/",
          "height": 404
        },
        "id": "ffUMItg-kS3X",
        "outputId": "842f6409-9497-4ab6-df51-5a34817d127b"
      },
      "outputs": [
        {
          "name": "stdout",
          "output_type": "stream",
          "text": [
            "10\n",
            "10\n"
          ]
        },
        {
          "data": {
            "image/png": "[encoded data removed]",
            "text/plain": [
              "<Figure size 432x288 with 1 Axes>"
            ]
          },
          "metadata": {
            "needs_background": "light",
            "tags": []
          },
          "output_type": "display_data"
        }
      ],
      "source": [
        "import numpy as np\n",
        "import matplotlib.pyplot as plt\n",
        "\n",
        "\n",
        "height, width = cm.shape\n",
        "print(height)\n",
        "print(width)\n",
        "\n",
        "fig = plt.figure('confusion matrix')\n",
        "ax = fig.add_subplot(111, aspect='equal')\n",
        "for x in range(height):\n",
        "    rowsum = 0\n",
        "    for y in range(width):\n",
        "      if x == y:\n",
        "        ax.annotate(str(cm[width-x-1][height-y-1]), xy=(y, x), ha='center', va='center',backgroundcolor='#ADD8E6')\n",
        "        rowsum += cm[width-x-1][height-y-1]\n",
        "      else:\n",
        "        ax.annotate(str(cm[width-x-1][height-y-1]), xy=(y, x), ha='center', va='center')\n",
        "        rowsum += cm[width-x-1][height-y-1] \n",
        "    #print(f'row {x} sum is {rowsum}')\n",
        "    for y in range(width):\n",
        "      if x == y:\n",
        "        pass\n",
        "      elif cm[width-x-1][height-y-1] > int(0.1*rowsum):\n",
        "        ax.annotate(str(cm[width-x-1][height-y-1]), xy=(y, x), ha='center', va='center',backgroundcolor='#ffcccb')\n",
        "    \n",
        "\n",
        "offset = .5    \n",
        "ax.set_xlim(-offset, width - offset)\n",
        "ax.set_ylim(-offset, height - offset)\n",
        "\n",
        "ax.hlines(y=np.arange(height+1)- offset, xmin=-offset, xmax=width-offset)\n",
        "ax.vlines(x=np.arange(width+1) - offset, ymin=-offset, ymax=height-offset)\n",
        "\n",
        "\n",
        "\n",
        "plt.xticks(range(width), classes,rotation=90)\n",
        "plt.yticks(range(height), classes)\n",
        "plt.savefig('confusion_matrix.png', format='png')"
      ]
    }
  ],
  "metadata": {
    "accelerator": "GPU",
    "colab": {
      "authorship_tag": "ABX9TyNCuYHO5Q3QcLWMlFxLRQsy",
      "collapsed_sections": [],
      "mount_file_id": "1Or55t1EafsCuturvOp4ME0mfozwHXD4M",
      "name": "left_right_context_model_alternate.ipynb",
      "provenance": []
    },
    "interpreter": {
      "hash": "37b255bb5dc0d995b91bd1b934b878e610a26475f52eafaf29fdb395fb105534"
    },
    "kernelspec": {
      "display_name": "Python 3.8.5 64-bit ('base': conda)",
      "name": "python3"
    },
    "language_info": {
      "codemirror_mode": {
        "name": "ipython",
        "version": 3
      },
      "file_extension": ".py",
      "mimetype": "text/x-python",
      "name": "python",
      "nbconvert_exporter": "python",
      "pygments_lexer": "ipython3",
      "version": "3.8.5"
    }
  },
  "nbformat": 4,
  "nbformat_minor": 2
}
